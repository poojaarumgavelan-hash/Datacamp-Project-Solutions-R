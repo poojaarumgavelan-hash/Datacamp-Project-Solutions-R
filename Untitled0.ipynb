{
  "nbformat": 4,
  "nbformat_minor": 0,
  "metadata": {
    "colab": {
      "provenance": [],
      "authorship_tag": "ABX9TyPWoaD6W0o9kXew2hRQ/k4v",
      "include_colab_link": true
    },
    "kernelspec": {
      "name": "ir",
      "display_name": "R"
    },
    "language_info": {
      "name": "R"
    }
  },
  "cells": [
    {
      "cell_type": "markdown",
      "metadata": {
        "id": "view-in-github",
        "colab_type": "text"
      },
      "source": [
        "<a href=\"https://colab.research.google.com/github/poojaarumgavelan-hash/Datacamp-Project-Solutions-R/blob/master/Untitled0.ipynb\" target=\"_parent\"><img src=\"https://colab.research.google.com/assets/colab-badge.svg\" alt=\"Open In Colab\"/></a>"
      ]
    },
    {
      "cell_type": "code",
      "execution_count": 1,
      "metadata": {
        "colab": {
          "base_uri": "https://localhost:8080/"
        },
        "id": "-LMq34PFSz_D",
        "outputId": "1b535313-e78e-4f69-e3f1-be69d49d4bb8"
      },
      "outputs": [
        {
          "output_type": "stream",
          "name": "stdout",
          "text": [
            "[1] \"red\"    \"green\"  \"yellow\"\n",
            "[1] \"character\"\n"
          ]
        }
      ],
      "source": [
        "\n",
        "# Create a vector.\n",
        "apple <- c('red','green',\"yellow\")\n",
        "print(apple)\n",
        "# Get the class of the vector.\n",
        "print(class(apple))"
      ]
    }
  ]
}