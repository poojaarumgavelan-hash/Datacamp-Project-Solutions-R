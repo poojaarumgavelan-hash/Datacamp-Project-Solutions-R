{
  "nbformat": 4,
  "nbformat_minor": 0,
  "metadata": {
    "colab": {
      "provenance": [],
      "authorship_tag": "ABX9TyPxTHxMR8VkfSNVgv2p/6SF",
      "include_colab_link": true
    },
    "kernelspec": {
      "name": "ir",
      "display_name": "R"
    },
    "language_info": {
      "name": "R"
    }
  },
  "cells": [
    {
      "cell_type": "markdown",
      "metadata": {
        "id": "view-in-github",
        "colab_type": "text"
      },
      "source": [
        "<a href=\"https://colab.research.google.com/github/poojaarumgavelan-hash/Datacamp-Project-Solutions-R/blob/master/Untitled0.ipynb\" target=\"_parent\"><img src=\"https://colab.research.google.com/assets/colab-badge.svg\" alt=\"Open In Colab\"/></a>"
      ]
    },
    {
      "cell_type": "code",
      "execution_count": 1,
      "metadata": {
        "colab": {
          "base_uri": "https://localhost:8080/"
        },
        "id": "-LMq34PFSz_D",
        "outputId": "1b535313-e78e-4f69-e3f1-be69d49d4bb8"
      },
      "outputs": [
        {
          "output_type": "stream",
          "name": "stdout",
          "text": [
            "[1] \"red\"    \"green\"  \"yellow\"\n",
            "[1] \"character\"\n"
          ]
        }
      ],
      "source": [
        "\n",
        "# Create a vector.\n",
        "apple <- c('red','green',\"yellow\")\n",
        "print(apple)\n",
        "# Get the class of the vector.\n",
        "print(class(apple))"
      ]
    },
    {
      "cell_type": "code",
      "source": [
        "\n",
        "# Create a list.\n",
        "list1 <- list(c(2,5,3),21.3,sin)\n",
        "# Print the list.\n",
        "print(list1)"
      ],
      "metadata": {
        "colab": {
          "base_uri": "https://localhost:8080/"
        },
        "id": "fwzWnHX2THom",
        "outputId": "a6a69184-e075-4f83-e864-3030e36323ce"
      },
      "execution_count": 2,
      "outputs": [
        {
          "output_type": "stream",
          "name": "stdout",
          "text": [
            "[[1]]\n",
            "[1] 2 5 3\n",
            "\n",
            "[[2]]\n",
            "[1] 21.3\n",
            "\n",
            "[[3]]\n",
            "function (x)  .Primitive(\"sin\")\n",
            "\n"
          ]
        }
      ]
    },
    {
      "cell_type": "code",
      "source": [
        "\n",
        "M = matrix( c('a','a','b','c','b','a'), nrow = 2, ncol = 3, byrow = TRUE)\n",
        "print(M)"
      ],
      "metadata": {
        "colab": {
          "base_uri": "https://localhost:8080/"
        },
        "id": "VlHcQ6d1TMqY",
        "outputId": "89f3efe2-485a-41d9-9bfc-114685392fcb"
      },
      "execution_count": 6,
      "outputs": [
        {
          "output_type": "stream",
          "name": "stdout",
          "text": [
            "     [,1] [,2] [,3]\n",
            "[1,] \"a\"  \"a\"  \"b\" \n",
            "[2,] \"c\"  \"b\"  \"a\" \n"
          ]
        }
      ]
    },
    {
      "cell_type": "code",
      "source": [
        "# Create an array.\n",
        "a <- array(c('green','yellow'),dim = c(3,3,2))\n",
        "print(a)"
      ],
      "metadata": {
        "colab": {
          "base_uri": "https://localhost:8080/"
        },
        "id": "kJsSBU3xTbrv",
        "outputId": "0dad1dd9-ac7a-471b-ad7c-8c51203e888f"
      },
      "execution_count": 4,
      "outputs": [
        {
          "output_type": "stream",
          "name": "stdout",
          "text": [
            ", , 1\n",
            "\n",
            "     [,1]     [,2]     [,3]    \n",
            "[1,] \"green\"  \"yellow\" \"green\" \n",
            "[2,] \"yellow\" \"green\"  \"yellow\"\n",
            "[3,] \"green\"  \"yellow\" \"green\" \n",
            "\n",
            ", , 2\n",
            "\n",
            "     [,1]     [,2]     [,3]    \n",
            "[1,] \"yellow\" \"green\"  \"yellow\"\n",
            "[2,] \"green\"  \"yellow\" \"green\" \n",
            "[3,] \"yellow\" \"green\"  \"yellow\"\n",
            "\n"
          ]
        }
      ]
    },
    {
      "cell_type": "code",
      "source": [
        "\n",
        "# Create a vector.\n",
        "apple_colors <- c('green','green','yellow','red','red','red','green')\n",
        "# Create a factor object.\n",
        "factor_apple <- factor(apple_colors)\n",
        "# Print the factor.\n",
        "print(factor_apple)\n",
        "print(nlevels(factor_apple))"
      ],
      "metadata": {
        "colab": {
          "base_uri": "https://localhost:8080/"
        },
        "id": "Nj4dd-EZTjeN",
        "outputId": "2ad79a81-c326-4998-c321-451ef06537af"
      },
      "execution_count": 3,
      "outputs": [
        {
          "output_type": "stream",
          "name": "stdout",
          "text": [
            "[1] green  green  yellow red    red    red    green \n",
            "Levels: green red yellow\n",
            "[1] 3\n"
          ]
        }
      ]
    },
    {
      "cell_type": "code",
      "source": [
        "# Assignment using equal operator.\n",
        "var.1 = c(0,1,2,3)\n",
        "# Assignment using leftward operator.\n",
        "var.2 <- c(\"learn\",\"R\")\n",
        "# Assignment using rightward operator.\n",
        "c(TRUE,1) -> var.3\n",
        "print(var.1)\n",
        "cat (\"var.1 is \", var.1 ,\"\\n\")\n",
        "cat (\"var.2 is \", var.2 ,\"\\n\")\n",
        "cat (\"var.3 is \", var.3 ,\"\\n\")"
      ],
      "metadata": {
        "colab": {
          "base_uri": "https://localhost:8080/"
        },
        "id": "WtEzGb6-TxdQ",
        "outputId": "83f7741a-f92a-4b77-d035-8af3a78e0d60"
      },
      "execution_count": 7,
      "outputs": [
        {
          "output_type": "stream",
          "name": "stdout",
          "text": [
            "[1] 0 1 2 3\n",
            "var.1 is  0 1 2 3 \n",
            "var.2 is  learn R \n",
            "var.3 is  1 1 \n"
          ]
        }
      ]
    },
    {
      "cell_type": "code",
      "source": [
        "\n",
        "# Create the data frame.\n",
        "BMI <-\n",
        "data.frame(\n",
        "gender = c(\"Male\", \"Male\",\"Female\"),\n",
        "height = c(152, 171.5, 165),\n",
        "weight = c(81,93, 78),\n",
        "Age = c(42,38,26)\n",
        ")\n",
        "print(BMI)"
      ],
      "metadata": {
        "colab": {
          "base_uri": "https://localhost:8080/"
        },
        "id": "KrtvlPd_T8lk",
        "outputId": "286cd993-20d0-4498-bcc1-76ab2548a675"
      },
      "execution_count": 8,
      "outputs": [
        {
          "output_type": "stream",
          "name": "stdout",
          "text": [
            "  gender height weight Age\n",
            "1   Male  152.0     81  42\n",
            "2   Male  171.5     93  38\n",
            "3 Female  165.0     78  26\n"
          ]
        }
      ]
    },
    {
      "cell_type": "code",
      "source": [
        "var_x <- \"Hello\"\n",
        "cat(\"The class of var_x is \",class(var_x),\"\\n\")\n",
        "var_x <- 34.5\n",
        "cat(\" Now the class of var_x is \",class(var_x),\"\\n\")\n",
        "var_x <- 27L\n",
        "cat(\" Next the class of var_x becomes \",class(var_x),\"\\n\")"
      ],
      "metadata": {
        "colab": {
          "base_uri": "https://localhost:8080/"
        },
        "id": "IZYc27W_UCHH",
        "outputId": "6b7b9a00-df06-4e21-9787-559b6f44e7bc"
      },
      "execution_count": 9,
      "outputs": [
        {
          "output_type": "stream",
          "name": "stdout",
          "text": [
            "The class of var_x is  character \n",
            " Now the class of var_x is  numeric \n",
            " Next the class of var_x becomes  integer \n"
          ]
        }
      ]
    },
    {
      "cell_type": "code",
      "source": [
        "var_x <- \"Hello\"\n",
        "cat(\"The class of var_x is \",class(var_x),\"\\n\")\n",
        "var_x <- 34.5\n",
        "cat(\" Now the class of var_x is \",class(var_x),\"\\n\")\n",
        "var_x <- 27L\n",
        "cat(\" Next the class of var_x becomes \",class(var_x),\"\\n\")"
      ],
      "metadata": {
        "colab": {
          "base_uri": "https://localhost:8080/"
        },
        "id": "O7embnjqUSaH",
        "outputId": "0bcc895a-7378-453d-8dd6-4525ac3a8d3b"
      },
      "execution_count": 12,
      "outputs": [
        {
          "output_type": "stream",
          "name": "stdout",
          "text": [
            "The class of var_x is  character \n",
            " Now the class of var_x is  numeric \n",
            " Next the class of var_x becomes  integer \n"
          ]
        }
      ]
    },
    {
      "cell_type": "code",
      "source": [
        "v <- c( 2,5.5,6)\n",
        "t <- c(8, 3, 4)\n",
        "print(v+t)"
      ],
      "metadata": {
        "colab": {
          "base_uri": "https://localhost:8080/"
        },
        "id": "0MRcX_pHUYcE",
        "outputId": "5a43ee40-758e-4c65-b701-bf02966966bf"
      },
      "execution_count": 13,
      "outputs": [
        {
          "output_type": "stream",
          "name": "stdout",
          "text": [
            "[1] 10.0  8.5 10.0\n"
          ]
        }
      ]
    },
    {
      "cell_type": "code",
      "source": [
        "v <- c( 2,5.5,6)\n",
        "t <- c(8, 3, 4)\n",
        "print(v-t)"
      ],
      "metadata": {
        "colab": {
          "base_uri": "https://localhost:8080/"
        },
        "id": "d3tXbQiCVsgs",
        "outputId": "bf09959a-7a90-49e4-a538-b7e591417146"
      },
      "execution_count": 14,
      "outputs": [
        {
          "output_type": "stream",
          "name": "stdout",
          "text": [
            "[1] -6.0  2.5  2.0\n"
          ]
        }
      ]
    },
    {
      "cell_type": "code",
      "source": [
        "v <- c( 2,5.5,6)\n",
        "t <- c(8, 3, 4)\n",
        "print(v/t)"
      ],
      "metadata": {
        "colab": {
          "base_uri": "https://localhost:8080/"
        },
        "id": "PBwiz7gjV1AJ",
        "outputId": "cdb42bad-bc50-4bce-ba52-ee72930bf7e7"
      },
      "execution_count": 15,
      "outputs": [
        {
          "output_type": "stream",
          "name": "stdout",
          "text": [
            "[1] 0.250000 1.833333 1.500000\n"
          ]
        }
      ]
    },
    {
      "cell_type": "code",
      "source": [
        "v <- c( 2,5.5,6)\n",
        "t <- c(8, 3, 4)\n",
        "print(v*t)"
      ],
      "metadata": {
        "colab": {
          "base_uri": "https://localhost:8080/"
        },
        "id": "M0WcB2aCV3sg",
        "outputId": "9398d02f-9bb6-4df5-efee-f30d10360f63"
      },
      "execution_count": 16,
      "outputs": [
        {
          "output_type": "stream",
          "name": "stdout",
          "text": [
            "[1] 16.0 16.5 24.0\n"
          ]
        }
      ]
    },
    {
      "cell_type": "code",
      "source": [
        "v <- c( 2,5.5,6)\n",
        "t <- c(8, 3, 4)\n",
        "print(v%%t)"
      ],
      "metadata": {
        "colab": {
          "base_uri": "https://localhost:8080/"
        },
        "id": "lRjajgW1WC-C",
        "outputId": "ff992f38-33b0-427b-d2a6-16b48fd492ff"
      },
      "execution_count": 17,
      "outputs": [
        {
          "output_type": "stream",
          "name": "stdout",
          "text": [
            "[1] 2.0 2.5 2.0\n"
          ]
        }
      ]
    },
    {
      "cell_type": "code",
      "source": [
        "v <- c( 2,5.5,6)\n",
        "t <- c(8, 3, 4)\n",
        "print(v%/%t)"
      ],
      "metadata": {
        "colab": {
          "base_uri": "https://localhost:8080/"
        },
        "id": "XreJaywCWQOt",
        "outputId": "625d65ef-8a80-47c7-8824-1b5113c0aea7"
      },
      "execution_count": 18,
      "outputs": [
        {
          "output_type": "stream",
          "name": "stdout",
          "text": [
            "[1] 0 1 1\n"
          ]
        }
      ]
    },
    {
      "cell_type": "code",
      "source": [
        "v <- c( 2,5.5,6)\n",
        "t <- c(8, 3, 4)\n",
        "print(v^t)"
      ],
      "metadata": {
        "colab": {
          "base_uri": "https://localhost:8080/"
        },
        "id": "Lv43HKyPWTJu",
        "outputId": "07d2c5b0-ddab-40b2-c463-dab6f5393bfe"
      },
      "execution_count": 19,
      "outputs": [
        {
          "output_type": "stream",
          "name": "stdout",
          "text": [
            "[1]  256.000  166.375 1296.000\n"
          ]
        }
      ]
    },
    {
      "cell_type": "code",
      "source": [
        "v <- c(2,5.5,6,9)\n",
        "t <- c(8,2.5,14,9)\n",
        "print(v>t)"
      ],
      "metadata": {
        "colab": {
          "base_uri": "https://localhost:8080/"
        },
        "id": "q2wastpGWgMh",
        "outputId": "1d7f43e6-8424-40c0-e3f0-b4964c34e511"
      },
      "execution_count": 20,
      "outputs": [
        {
          "output_type": "stream",
          "name": "stdout",
          "text": [
            "[1] FALSE  TRUE FALSE FALSE\n"
          ]
        }
      ]
    },
    {
      "cell_type": "code",
      "source": [
        "v <- c(2,5.5,6,9)\n",
        "t <- c(8,2.5,14,9)\n",
        "print(v<t)"
      ],
      "metadata": {
        "colab": {
          "base_uri": "https://localhost:8080/"
        },
        "id": "hUuAdDB9WwJz",
        "outputId": "5ec2d41e-a8c9-4786-862c-e26b7246a9a5"
      },
      "execution_count": 23,
      "outputs": [
        {
          "output_type": "stream",
          "name": "stdout",
          "text": [
            "[1]  TRUE FALSE  TRUE FALSE\n"
          ]
        }
      ]
    },
    {
      "cell_type": "code",
      "source": [
        "v <- c(2,5.5,6,9)\n",
        "t <- c(8,2.5,14,9)\n",
        "print(v<=t)"
      ],
      "metadata": {
        "colab": {
          "base_uri": "https://localhost:8080/"
        },
        "id": "InJJqFrCWnJh",
        "outputId": "c397dc57-47f5-4a9d-ce53-1bb38723b79d"
      },
      "execution_count": 21,
      "outputs": [
        {
          "output_type": "stream",
          "name": "stdout",
          "text": [
            "[1]  TRUE FALSE  TRUE  TRUE\n"
          ]
        }
      ]
    },
    {
      "cell_type": "code",
      "source": [
        "v <- c(2,5.5,6,9)\n",
        "t <- c(8,2.5,14,9)\n",
        "print(v>=t)"
      ],
      "metadata": {
        "colab": {
          "base_uri": "https://localhost:8080/"
        },
        "id": "8FE-1FLLW7rm",
        "outputId": "8f21bc8c-dfa8-4014-a3f0-484ccbb97b3b"
      },
      "execution_count": 24,
      "outputs": [
        {
          "output_type": "stream",
          "name": "stdout",
          "text": [
            "[1] FALSE  TRUE FALSE  TRUE\n"
          ]
        }
      ]
    },
    {
      "cell_type": "code",
      "source": [
        "v <- c(2,5.5,6,9)\n",
        "t <- c(8,2.5,14,9)\n",
        "print(v!=t)"
      ],
      "metadata": {
        "colab": {
          "base_uri": "https://localhost:8080/"
        },
        "id": "J4EEH8McXClf",
        "outputId": "a0168cc0-0c9a-4f7d-89e7-d76b14f1ca35"
      },
      "execution_count": 25,
      "outputs": [
        {
          "output_type": "stream",
          "name": "stdout",
          "text": [
            "[1]  TRUE  TRUE  TRUE FALSE\n"
          ]
        }
      ]
    },
    {
      "cell_type": "code",
      "source": [
        "v <- c(3,1,TRUE,2+3i)\n",
        "t <- c(4,1,FALSE,2+3i)\n",
        "print(v&t)"
      ],
      "metadata": {
        "colab": {
          "base_uri": "https://localhost:8080/"
        },
        "id": "MI2j9FOaXKop",
        "outputId": "4a884379-7f74-42d1-b522-afc10565740c"
      },
      "execution_count": 26,
      "outputs": [
        {
          "output_type": "stream",
          "name": "stdout",
          "text": [
            "[1]  TRUE  TRUE FALSE  TRUE\n"
          ]
        }
      ]
    },
    {
      "cell_type": "code",
      "source": [
        "v <- c(3,0,TRUE,2+2i)\n",
        "t <- c(4,0,FALSE,2+3i)\n",
        "print(v|t)"
      ],
      "metadata": {
        "colab": {
          "base_uri": "https://localhost:8080/"
        },
        "id": "uBUh0cUwXXY-",
        "outputId": "7cdd3bd9-a5bf-4c04-9a48-646d65c03461"
      },
      "execution_count": 27,
      "outputs": [
        {
          "output_type": "stream",
          "name": "stdout",
          "text": [
            "[1]  TRUE FALSE  TRUE  TRUE\n"
          ]
        }
      ]
    },
    {
      "cell_type": "code",
      "source": [
        "v <- c(3,0,TRUE,2+2i)\n",
        "print(!v)"
      ],
      "metadata": {
        "colab": {
          "base_uri": "https://localhost:8080/"
        },
        "id": "PX0Dg4mDXfA0",
        "outputId": "c86bb802-8f43-441f-9dc5-bc7bf515ad5f"
      },
      "execution_count": 28,
      "outputs": [
        {
          "output_type": "stream",
          "name": "stdout",
          "text": [
            "[1] FALSE  TRUE FALSE FALSE\n"
          ]
        }
      ]
    },
    {
      "cell_type": "code",
      "source": [
        "v <- c(3,1,TRUE,2+3i)\n",
        "t <- c(4,1,FALSE,2+3i)\n",
        "print(v&t)"
      ],
      "metadata": {
        "colab": {
          "base_uri": "https://localhost:8080/"
        },
        "id": "qdEhdR1ydSRz",
        "outputId": "d59f0bb9-65f1-4a4c-b375-87d7c3b95157"
      },
      "execution_count": 58,
      "outputs": [
        {
          "output_type": "stream",
          "name": "stdout",
          "text": [
            "[1]  TRUE  TRUE FALSE  TRUE\n"
          ]
        }
      ]
    },
    {
      "cell_type": "code",
      "source": [
        "v1 <- c(3,1,TRUE,2+3i)\n",
        "v2 <<- c(3,1,TRUE,2+3i)\n",
        "v3 = c(3,1,TRUE,2+3i)\n",
        "print(v1)\n",
        "print(v2)\n",
        "print(v3)"
      ],
      "metadata": {
        "colab": {
          "base_uri": "https://localhost:8080/"
        },
        "id": "139IlSxJX7j7",
        "outputId": "fadd3354-c012-4fc6-a5c1-ee0e8fca30c3"
      },
      "execution_count": 31,
      "outputs": [
        {
          "output_type": "stream",
          "name": "stdout",
          "text": [
            "[1] 3+0i 1+0i 1+0i 2+3i\n",
            "[1] 3+0i 1+0i 1+0i 2+3i\n",
            "[1] 3+0i 1+0i 1+0i 2+3i\n"
          ]
        }
      ]
    },
    {
      "cell_type": "code",
      "source": [
        "c(3,1,TRUE,2+3i) -> v1\n",
        "c(3,1,TRUE,2+3i) ->> v2\n",
        "print(v1)\n",
        "print(v2)"
      ],
      "metadata": {
        "colab": {
          "base_uri": "https://localhost:8080/"
        },
        "id": "cK0ciTqoXnq_",
        "outputId": "397c244f-e3a6-4162-c8db-d0db13c19876"
      },
      "execution_count": 32,
      "outputs": [
        {
          "output_type": "stream",
          "name": "stdout",
          "text": [
            "[1] 3+0i 1+0i 1+0i 2+3i\n",
            "[1] 3+0i 1+0i 1+0i 2+3i\n"
          ]
        }
      ]
    },
    {
      "cell_type": "code",
      "source": [
        "v <- 2:8\n",
        "print(v)"
      ],
      "metadata": {
        "colab": {
          "base_uri": "https://localhost:8080/"
        },
        "id": "WIa_1uNzYE4u",
        "outputId": "60174551-d55d-499a-efa4-a4133e18e22e"
      },
      "execution_count": 33,
      "outputs": [
        {
          "output_type": "stream",
          "name": "stdout",
          "text": [
            "[1] 2 3 4 5 6 7 8\n"
          ]
        }
      ]
    },
    {
      "cell_type": "code",
      "source": [
        "v1 <- 8\n",
        "v2 <- 12\n",
        "t <- 1:10\n",
        "print(v1 %in% t)\n",
        "print(v2 %in% t)"
      ],
      "metadata": {
        "colab": {
          "base_uri": "https://localhost:8080/"
        },
        "id": "QEGIlrp5YInO",
        "outputId": "618ad6e7-1a20-421e-bb19-f6b17b0bf7b1"
      },
      "execution_count": 34,
      "outputs": [
        {
          "output_type": "stream",
          "name": "stdout",
          "text": [
            "[1] TRUE\n",
            "[1] FALSE\n"
          ]
        }
      ]
    },
    {
      "cell_type": "code",
      "source": [
        "M = matrix( c(2,6,5,1,10,4),\n",
        "nrow = 2,ncol = 3,byrow =\n",
        "TRUE)\n",
        "t = M %*% t(M)\n",
        "print(t)"
      ],
      "metadata": {
        "colab": {
          "base_uri": "https://localhost:8080/"
        },
        "id": "oDKwsSzLYNZ-",
        "outputId": "003522cb-0642-43e8-d678-c4910d61bdc1"
      },
      "execution_count": 35,
      "outputs": [
        {
          "output_type": "stream",
          "name": "stdout",
          "text": [
            "     [,1] [,2]\n",
            "[1,]   65   82\n",
            "[2,]   82  117\n"
          ]
        }
      ]
    },
    {
      "cell_type": "code",
      "source": [
        "x <- 30L\n",
        "if(is.integer(x)) {\n",
        " print(\"X is an Integer\")\n",
        "}"
      ],
      "metadata": {
        "colab": {
          "base_uri": "https://localhost:8080/"
        },
        "id": "-_9y1T6TYTd8",
        "outputId": "85c2d0a8-918d-49ad-86c6-330121ce7610"
      },
      "execution_count": 36,
      "outputs": [
        {
          "output_type": "stream",
          "name": "stdout",
          "text": [
            "[1] \"X is an Integer\"\n"
          ]
        }
      ]
    },
    {
      "cell_type": "code",
      "source": [
        "x <- 10\n",
        "y <- 20\n",
        "z <- 30\n",
        "if(x >= y) {\n",
        " if(x >= z)\n",
        " cat(x , \" is the largest.\")\n",
        " else\n",
        " cat(z , \" is the largest.\")\n",
        "} else {\n",
        " if(y >= z)\n",
        " cat(y , \" is the largest.\")\n",
        " else\n",
        " cat(z , \" is the largest.\")\n",
        "}"
      ],
      "metadata": {
        "colab": {
          "base_uri": "https://localhost:8080/"
        },
        "id": "SC760CXaYYpt",
        "outputId": "4956341d-ac81-46a2-9ef8-106990d0d319"
      },
      "execution_count": 37,
      "outputs": [
        {
          "output_type": "stream",
          "name": "stdout",
          "text": [
            "30  is the largest."
          ]
        }
      ]
    },
    {
      "cell_type": "code",
      "source": [
        "x <- switch(\n",
        " \"apple\",\n",
        " apple = \"A red fruit\",\n",
        " banana = \"A yellow fruit\",\n",
        " orange = \"A citrus fruit\"\n",
        " )\n",
        "print(x)"
      ],
      "metadata": {
        "colab": {
          "base_uri": "https://localhost:8080/"
        },
        "id": "ptfdqfmfYfv-",
        "outputId": "01744360-e92b-4690-cf97-3b86f7dd4df1"
      },
      "execution_count": 38,
      "outputs": [
        {
          "output_type": "stream",
          "name": "stdout",
          "text": [
            "[1] \"A red fruit\"\n"
          ]
        }
      ]
    },
    {
      "cell_type": "code",
      "source": [
        "v <- LETTERS[1:4]\n",
        "i <- 0\n",
        "repeat {\n",
        " print(v[i])\n",
        " i<- i+1\n",
        " if(i> 4) {\n",
        "break\n",
        " }\n",
        "}"
      ],
      "metadata": {
        "colab": {
          "base_uri": "https://localhost:8080/"
        },
        "id": "EXCodgdvYl_5",
        "outputId": "b7a21897-3c49-4677-d358-9c8d12d021fd"
      },
      "execution_count": 40,
      "outputs": [
        {
          "output_type": "stream",
          "name": "stdout",
          "text": [
            "character(0)\n",
            "[1] \"A\"\n",
            "[1] \"B\"\n",
            "[1] \"C\"\n",
            "[1] \"D\"\n"
          ]
        }
      ]
    },
    {
      "cell_type": "code",
      "source": [
        "v <- LETTERS[1:4]\n",
        "i <- 0\n",
        "while(i < 5) {\n",
        " print(v[i])\n",
        " i<- i+1\n",
        "}"
      ],
      "metadata": {
        "colab": {
          "base_uri": "https://localhost:8080/"
        },
        "id": "Rp1BoXZWZFSp",
        "outputId": "9dea2bc8-644d-472e-b374-037c7f752e92"
      },
      "execution_count": 41,
      "outputs": [
        {
          "output_type": "stream",
          "name": "stdout",
          "text": [
            "character(0)\n",
            "[1] \"A\"\n",
            "[1] \"B\"\n",
            "[1] \"C\"\n",
            "[1] \"D\"\n"
          ]
        }
      ]
    },
    {
      "cell_type": "code",
      "source": [
        "list1 <- list(a = 1:3, b = \"hello\", c = TRUE)\n",
        "for (item in list1) {\n",
        " print(item)\n",
        "}"
      ],
      "metadata": {
        "colab": {
          "base_uri": "https://localhost:8080/"
        },
        "id": "z_c9xsFuZf-J",
        "outputId": "2414f9b5-1e0b-4d24-f8b4-c5418d5b03a5"
      },
      "execution_count": 43,
      "outputs": [
        {
          "output_type": "stream",
          "name": "stdout",
          "text": [
            "[1] 1 2 3\n",
            "[1] \"hello\"\n",
            "[1] TRUE\n"
          ]
        }
      ]
    },
    {
      "cell_type": "code",
      "source": [
        "# Elements are arranged sequentially by row.\n",
        "M <- matrix(c(3:14), nrow = 4, byrow = TRUE)\n",
        "print(M)\n",
        "# Elements are arranged sequentially by column.\n",
        "N <- matrix(c(3:14), nrow = 4, byrow = FALSE)\n",
        "print(N)\n",
        "# Define the column and row names.\n",
        "rownames = c(\"row1\", \"row2\", \"row3\", \"row4\")\n",
        "colnames = c(\"col1\", \"col2\", \"col3\")\n",
        "P <- matrix(c(3:14), nrow = 4, byrow = TRUE, dimnames = list(rownames, colnames))\n",
        "print(P)"
      ],
      "metadata": {
        "colab": {
          "base_uri": "https://localhost:8080/"
        },
        "id": "E8RMa-LSZmzU",
        "outputId": "778270ff-82c6-4641-9c4e-5d810c32ce5a"
      },
      "execution_count": 44,
      "outputs": [
        {
          "output_type": "stream",
          "name": "stdout",
          "text": [
            "     [,1] [,2] [,3]\n",
            "[1,]    3    4    5\n",
            "[2,]    6    7    8\n",
            "[3,]    9   10   11\n",
            "[4,]   12   13   14\n",
            "     [,1] [,2] [,3]\n",
            "[1,]    3    7   11\n",
            "[2,]    4    8   12\n",
            "[3,]    5    9   13\n",
            "[4,]    6   10   14\n",
            "     col1 col2 col3\n",
            "row1    3    4    5\n",
            "row2    6    7    8\n",
            "row3    9   10   11\n",
            "row4   12   13   14\n"
          ]
        }
      ]
    },
    {
      "cell_type": "code",
      "source": [
        "# Define the column and row names.\n",
        "rownames = c(\"row1\", \"row2\", \"row3\", \"row4\")\n",
        "colnames = c(\"col1\", \"col2\", \"col3\")\n",
        "# Create the matrix.\n",
        "P <- matrix(c(3:14), nrow = 4, byrow = TRUE, dimnames = list(rownames, colnames))\n",
        "# Access the element at 3rd column and 1st row.\n",
        "print(P[1,3])\n",
        "# Access the element at 2nd column and 4th row.\n",
        "print(P[4,2])\n",
        "# Access only the 2nd row.\n",
        "print(P[2,])\n",
        "# Access only the 3rd columns.\n",
        "print(P[,3])"
      ],
      "metadata": {
        "colab": {
          "base_uri": "https://localhost:8080/"
        },
        "id": "e9zJv6AIZsa0",
        "outputId": "f9ef898a-ba82-45d1-a98a-b7d99a90abdc"
      },
      "execution_count": 45,
      "outputs": [
        {
          "output_type": "stream",
          "name": "stdout",
          "text": [
            "[1] 5\n",
            "[1] 13\n",
            "col1 col2 col3 \n",
            "   6    7    8 \n",
            "row1 row2 row3 row4 \n",
            "   5    8   11   14 \n"
          ]
        }
      ]
    },
    {
      "cell_type": "code",
      "source": [
        "# Create two 2x3 matrices.\n",
        "matrix1 <- matrix(c(3, 9, -1, 4, 2, 6), nrow = 2)\n",
        "print(matrix1)\n",
        "matrix2 <- matrix(c(5, 2, 0, 9, 3, 4), nrow = 2)\n",
        "print(matrix2)\n",
        "# Add the matrices.\n",
        "result <- matrix1 + matrix2\n",
        "cat(\"Result of addition\",\"\\n\")\n",
        "print(result)\n",
        "# Subtract the matrices\n",
        "result <- matrix1 - matrix2\n",
        "cat(\"Result of subtraction\",\"\\n\")\n",
        "print(result)"
      ],
      "metadata": {
        "colab": {
          "base_uri": "https://localhost:8080/"
        },
        "id": "hdd-ErpmZ8F7",
        "outputId": "22523a2a-61a5-4802-b114-8f78ec4ec0bc"
      },
      "execution_count": 46,
      "outputs": [
        {
          "output_type": "stream",
          "name": "stdout",
          "text": [
            "     [,1] [,2] [,3]\n",
            "[1,]    3   -1    2\n",
            "[2,]    9    4    6\n",
            "     [,1] [,2] [,3]\n",
            "[1,]    5    0    3\n",
            "[2,]    2    9    4\n",
            "Result of addition \n",
            "     [,1] [,2] [,3]\n",
            "[1,]    8   -1    5\n",
            "[2,]   11   13   10\n",
            "Result of subtraction \n",
            "     [,1] [,2] [,3]\n",
            "[1,]   -2   -1   -1\n",
            "[2,]    7   -5    2\n"
          ]
        }
      ]
    },
    {
      "cell_type": "code",
      "source": [
        "# Create two 2x3 matrices.\n",
        "matrix1 <- matrix(c(3, 9, -1, 4, 2, 6), nrow = 2)\n",
        "print(matrix1)\n",
        "matrix2 <- matrix(c(5, 2, 0, 9, 3, 4), nrow = 2)\n",
        "print(matrix2)\n",
        "# Multiply the matrices.\n",
        "result <- matrix1 * matrix2\n",
        "cat(\"Result of multiplication\",\"\\n\")\n",
        "print(result)\n",
        "# Divide the matrices\n",
        "result <- matrix1 / matrix2\n",
        "cat(\"Result of division\",\"\\n\")\n",
        "print(result)"
      ],
      "metadata": {
        "colab": {
          "base_uri": "https://localhost:8080/"
        },
        "id": "G7p1M6i4aCFZ",
        "outputId": "e6f8a861-1a9c-42c0-fbe1-2d16b005b85f"
      },
      "execution_count": 47,
      "outputs": [
        {
          "output_type": "stream",
          "name": "stdout",
          "text": [
            "     [,1] [,2] [,3]\n",
            "[1,]    3   -1    2\n",
            "[2,]    9    4    6\n",
            "     [,1] [,2] [,3]\n",
            "[1,]    5    0    3\n",
            "[2,]    2    9    4\n",
            "Result of multiplication \n",
            "     [,1] [,2] [,3]\n",
            "[1,]   15    0    6\n",
            "[2,]   18   36   24\n",
            "Result of division \n",
            "     [,1]      [,2]      [,3]\n",
            "[1,]  0.6      -Inf 0.6666667\n",
            "[2,]  4.5 0.4444444 1.5000000\n"
          ]
        }
      ]
    },
    {
      "cell_type": "code",
      "source": [
        "# Create two vectors of different lengths.\n",
        "vector1 <- c(5,9,3)\n",
        "vector2 <- c(10,11,12,13,14,15)\n",
        "# Take these vectors as input to the array.\n",
        "result <- array(c(vector1,vector2),dim = c(3,3,2))\n",
        "print(result)"
      ],
      "metadata": {
        "colab": {
          "base_uri": "https://localhost:8080/"
        },
        "id": "jn-_YpO7aMBc",
        "outputId": "55dabfa0-3465-415d-a601-8b273e75aadf"
      },
      "execution_count": 48,
      "outputs": [
        {
          "output_type": "stream",
          "name": "stdout",
          "text": [
            ", , 1\n",
            "\n",
            "     [,1] [,2] [,3]\n",
            "[1,]    5   10   13\n",
            "[2,]    9   11   14\n",
            "[3,]    3   12   15\n",
            "\n",
            ", , 2\n",
            "\n",
            "     [,1] [,2] [,3]\n",
            "[1,]    5   10   13\n",
            "[2,]    9   11   14\n",
            "[3,]    3   12   15\n",
            "\n"
          ]
        }
      ]
    },
    {
      "cell_type": "code",
      "source": [
        "# Create two vectors of different lengths.\n",
        "vector1 <- c(5,9,3)\n",
        "vector2 <- c(10,11,12,13,14,15)\n",
        "# Take these vectors as input to the array.\n",
        "result <- array(c(vector1,vector2),dim = c(3,3,2))\n",
        "print(result)"
      ],
      "metadata": {
        "colab": {
          "base_uri": "https://localhost:8080/"
        },
        "id": "6CR7iGyHaer1",
        "outputId": "adc07a59-4e5d-4c1e-b063-cffb8e133c0f"
      },
      "execution_count": 52,
      "outputs": [
        {
          "output_type": "stream",
          "name": "stdout",
          "text": [
            ", , 1\n",
            "\n",
            "     [,1] [,2] [,3]\n",
            "[1,]    5   10   13\n",
            "[2,]    9   11   14\n",
            "[3,]    3   12   15\n",
            "\n",
            ", , 2\n",
            "\n",
            "     [,1] [,2] [,3]\n",
            "[1,]    5   10   13\n",
            "[2,]    9   11   14\n",
            "[3,]    3   12   15\n",
            "\n"
          ]
        }
      ]
    },
    {
      "cell_type": "code",
      "source": [
        "# Create two vectors of different lengths.\n",
        "vector1 <- c(5,9,3)\n",
        "vector2 <- c(10,11,12,13,14,15)\n",
        "column.names <- c(\"COL1\",\"COL2\",\"COL3\")\n",
        "row.names <- c(\"ROW1\",\"ROW2\",\"ROW3\")\n",
        "matrix.names <- c(\"Matrix1\",\"Matrix2\")\n",
        "# Take these vectors as input to the array.\n",
        "result <- array(c(vector1,vector2),dim = c(3,3,2),dimnames = list(row.names,column.names,\n",
        " matrix.names))\n",
        "print(result)"
      ],
      "metadata": {
        "colab": {
          "base_uri": "https://localhost:8080/"
        },
        "id": "Lvk562uBahDO",
        "outputId": "2c89745e-5041-43f4-e118-3d2f4f8c84fb"
      },
      "execution_count": 53,
      "outputs": [
        {
          "output_type": "stream",
          "name": "stdout",
          "text": [
            ", , Matrix1\n",
            "\n",
            "     COL1 COL2 COL3\n",
            "ROW1    5   10   13\n",
            "ROW2    9   11   14\n",
            "ROW3    3   12   15\n",
            "\n",
            ", , Matrix2\n",
            "\n",
            "     COL1 COL2 COL3\n",
            "ROW1    5   10   13\n",
            "ROW2    9   11   14\n",
            "ROW3    3   12   15\n",
            "\n"
          ]
        }
      ]
    },
    {
      "cell_type": "code",
      "source": [
        "# Create two vectors of different lengths.\n",
        "vector1 <- c(5,9,3)\n",
        "vector2 <- c(10,11,12,13,14,15)\n",
        "column.names <- c(\"COL1\",\"COL2\",\"COL3\")\n",
        "row.names <- c(\"ROW1\",\"ROW2\",\"ROW3\")\n",
        "matrix.names <- c(\"Matrix1\",\"Matrix2\")\n",
        "# Take these vectors as input to the array.\n",
        "result <- array(c(vector1,vector2),dim = c(3,3,2),dimnames = list(row.names,\n",
        " column.names, matrix.names))\n",
        "# Print the third row of the second matrix of the array.\n",
        "print(result)\n",
        "# Print the element in the 1st row and 3rd column of the 1st matrix.\n",
        "print(result[1,3,1])\n",
        "# Print the 2nd Matrix.\n",
        "print(result[,,2])"
      ],
      "metadata": {
        "colab": {
          "base_uri": "https://localhost:8080/"
        },
        "id": "Kdh_AWBfapvt",
        "outputId": "67502db1-154b-457e-f9fd-f0c414810a81"
      },
      "execution_count": 54,
      "outputs": [
        {
          "output_type": "stream",
          "name": "stdout",
          "text": [
            ", , Matrix1\n",
            "\n",
            "     COL1 COL2 COL3\n",
            "ROW1    5   10   13\n",
            "ROW2    9   11   14\n",
            "ROW3    3   12   15\n",
            "\n",
            ", , Matrix2\n",
            "\n",
            "     COL1 COL2 COL3\n",
            "ROW1    5   10   13\n",
            "ROW2    9   11   14\n",
            "ROW3    3   12   15\n",
            "\n",
            "[1] 13\n",
            "     COL1 COL2 COL3\n",
            "ROW1    5   10   13\n",
            "ROW2    9   11   14\n",
            "ROW3    3   12   15\n"
          ]
        }
      ]
    },
    {
      "cell_type": "code",
      "source": [
        "# Create two vectors of different lengths.\n",
        "vector1 <- c(5,9,3)\n",
        "vector2 <- c(10,11,12,13,14,15)\n",
        "# Take these vectors as input to the array.\n",
        "array1 <- array(c(vector1,vector2),dim = c(3,3,2))\n",
        "# Create two vectors of different lengths.\n",
        "vector3 <- c(9,1,0)\n",
        "vector4 <- c(6,0,11,3,14,1,2,6,9)\n",
        "array2 <- array(c(vector1,vector2),dim = c(3,3,2))\n",
        "# create matrices from these arrays.\n",
        "matrix1 <- array1[,,2]\n",
        "matrix2 <- array2[,,2]\n",
        "# Add the matrices.\n",
        "result <- matrix1+matrix2\n",
        "print(result)"
      ],
      "metadata": {
        "colab": {
          "base_uri": "https://localhost:8080/"
        },
        "id": "oFa4MP7fa21J",
        "outputId": "05195d6b-ac0d-4d27-8816-64c792ce2c1a"
      },
      "execution_count": 55,
      "outputs": [
        {
          "output_type": "stream",
          "name": "stdout",
          "text": [
            "     [,1] [,2] [,3]\n",
            "[1,]   10   20   26\n",
            "[2,]   18   22   28\n",
            "[3,]    6   24   30\n"
          ]
        }
      ]
    },
    {
      "cell_type": "code",
      "source": [
        "# Create two vectors of different lengths.\n",
        "vector1 <- c(5,9,3)\n",
        "vector2 <- c(10,11,12,13,14,15)\n",
        "# Take these vectors as input to the array.\n",
        "new.array <- array(c(vector1,vector2),dim = c(3,3,2))\n",
        "print(new.array)\n",
        "# Use apply to calculate the sum of the rows across all the matrices.\n",
        "result <- apply(new.array, c(1), sum)\n",
        "print(result)"
      ],
      "metadata": {
        "colab": {
          "base_uri": "https://localhost:8080/"
        },
        "id": "ljLAKBmEbAlN",
        "outputId": "51e42ff6-8bb5-4b40-b864-7f1f41b2a591"
      },
      "execution_count": 56,
      "outputs": [
        {
          "output_type": "stream",
          "name": "stdout",
          "text": [
            ", , 1\n",
            "\n",
            "     [,1] [,2] [,3]\n",
            "[1,]    5   10   13\n",
            "[2,]    9   11   14\n",
            "[3,]    3   12   15\n",
            "\n",
            ", , 2\n",
            "\n",
            "     [,1] [,2] [,3]\n",
            "[1,]    5   10   13\n",
            "[2,]    9   11   14\n",
            "[3,]    3   12   15\n",
            "\n",
            "[1] 56 68 60\n"
          ]
        }
      ]
    },
    {
      "cell_type": "code",
      "source": [],
      "metadata": {
        "id": "KJPJ0Y5NbGTh"
      },
      "execution_count": null,
      "outputs": []
    }
  ]
}